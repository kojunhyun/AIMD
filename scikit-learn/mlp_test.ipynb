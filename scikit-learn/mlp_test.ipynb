{
 "cells": [
  {
   "cell_type": "code",
   "execution_count": 1,
   "metadata": {
    "collapsed": true
   },
   "outputs": [],
   "source": [
    "from sklearn.preprocessing import Normalizer\n",
    "from sklearn.preprocessing import RobustScaler\n",
    "from sklearn.preprocessing import MinMaxScaler\n",
    "\n",
    "from sklearn.model_selection import train_test_split\n",
    "\n",
    "from sklearn.preprocessing import StandardScaler\n",
    "\n",
    "from sklearn.neural_network import MLPClassifier\n",
    "\n",
    "import numpy as np\n",
    "import pandas as pd\n",
    "import pickle"
   ]
  },
  {
   "cell_type": "code",
   "execution_count": 2,
   "metadata": {},
   "outputs": [
    {
     "name": "stdout",
     "output_type": "stream",
     "text": [
      "('x_data shape : ', (293724, 17))\n",
      "('y_data shape : ', (293724,))\n"
     ]
    }
   ],
   "source": [
    "x_data = pd.read_csv('x_data.csv')\n",
    "y_data = pd.read_csv('y_data.csv')\n",
    "\n",
    "del x_data['date']\n",
    "del x_data['product_no']\n",
    "\n",
    "tmp_y_data = np.array(y_data)\n",
    "x_data = np.array(x_data)\n",
    "y_data = tmp_y_data.flatten()\n",
    "\n",
    "print('x_data shape : ', x_data.shape)\n",
    "print('y_data shape : ', y_data.shape)\n"
   ]
  },
  {
   "cell_type": "code",
   "execution_count": 3,
   "metadata": {},
   "outputs": [
    {
     "name": "stdout",
     "output_type": "stream",
     "text": [
      "(220293, 17)\n",
      "(73431, 17)\n",
      "(220293,)\n",
      "(73431,)\n"
     ]
    }
   ],
   "source": [
    "X_train, X_test, y_train, y_test = train_test_split(x_data, y_data, train_size=0.75, test_size=0.25)\n",
    "print(X_train.shape)\n",
    "print(X_test.shape)\n",
    "print(y_train.shape)\n",
    "print(y_test.shape)"
   ]
  },
  {
   "cell_type": "code",
   "execution_count": 5,
   "metadata": {},
   "outputs": [],
   "source": [
    "with open('mlp_model/cafe24_mlp_train_model.txt', 'r') as f:\n",
    "    model = pickle.load(f)\n",
    "\n"
   ]
  },
  {
   "cell_type": "code",
   "execution_count": 6,
   "metadata": {},
   "outputs": [
    {
     "name": "stdout",
     "output_type": "stream",
     "text": [
      "[[35568  5613]\n",
      " [11286 20964]]\n"
     ]
    }
   ],
   "source": [
    "from sklearn.metrics import classification_report,confusion_matrix\n",
    "\n",
    "# predict\n",
    "predictions = model.predict(X_test)\n",
    "print(confusion_matrix(y_test,predictions))"
   ]
  },
  {
   "cell_type": "code",
   "execution_count": 7,
   "metadata": {},
   "outputs": [
    {
     "name": "stdout",
     "output_type": "stream",
     "text": [
      "             precision    recall  f1-score   support\n",
      "\n",
      "          0       0.76      0.86      0.81     41181\n",
      "          1       0.79      0.65      0.71     32250\n",
      "\n",
      "avg / total       0.77      0.77      0.77     73431\n",
      "\n"
     ]
    }
   ],
   "source": [
    "# predict_proba\n",
    "model.predict_proba(X_test)\n",
    "print(classification_report(y_test,predictions))"
   ]
  },
  {
   "cell_type": "code",
   "execution_count": 8,
   "metadata": {},
   "outputs": [
    {
     "name": "stdout",
     "output_type": "stream",
     "text": [
      "0.7698655881031172\n"
     ]
    }
   ],
   "source": [
    "# predict_proba\n",
    "real_testing = X_test[0:1]\n",
    "model.predict_proba(real_testing)\n",
    "from sklearn.metrics import f1_score\n",
    "print(f1_score(y_test, predictions, average='micro'))"
   ]
  },
  {
   "cell_type": "code",
   "execution_count": 9,
   "metadata": {
    "collapsed": true
   },
   "outputs": [],
   "source": [
    "report = classification_report(y_test,predictions)"
   ]
  },
  {
   "cell_type": "code",
   "execution_count": 10,
   "metadata": {},
   "outputs": [
    {
     "name": "stdout",
     "output_type": "stream",
     "text": [
      "             precision    recall  f1-score   support\n",
      "\n",
      "          0       0.76      0.86      0.81     41181\n",
      "          1       0.79      0.65      0.71     32250\n",
      "\n",
      "avg / total       0.77      0.77      0.77     73431\n",
      "\n"
     ]
    }
   ],
   "source": [
    "print(report)"
   ]
  },
  {
   "cell_type": "code",
   "execution_count": 20,
   "metadata": {},
   "outputs": [
    {
     "data": {
      "text/plain": [
       "u'             precision    recall  f1-score   support\\n\\n          0       0.76      0.86      0.81     41181\\n          1       0.79      0.65      0.71     32250\\n\\navg / total       0.77      0.77      0.77     73431\\n'"
      ]
     },
     "execution_count": 20,
     "metadata": {},
     "output_type": "execute_result"
    }
   ],
   "source": [
    "report[:]"
   ]
  },
  {
   "cell_type": "code",
   "execution_count": 21,
   "metadata": {},
   "outputs": [
    {
     "name": "stdout",
     "output_type": "stream",
     "text": [
      "214\n"
     ]
    }
   ],
   "source": [
    "print(len(report))"
   ]
  },
  {
   "cell_type": "code",
   "execution_count": 24,
   "metadata": {},
   "outputs": [
    {
     "name": "stdout",
     "output_type": "stream",
     "text": [
      "p\n"
     ]
    }
   ],
   "source": [
    "print(report[13])"
   ]
  },
  {
   "cell_type": "code",
   "execution_count": 34,
   "metadata": {},
   "outputs": [
    {
     "name": "stdout",
     "output_type": "stream",
     "text": [
      "[u'             precision    recall  f1-score   support', u'', u'          0       0.76      0.86      0.81     41181', u'          1       0.79      0.65      0.71     32250', u'', u'avg / total       0.77      0.77      0.77     73431', u'']\n",
      "             precision    recall  f1-score   support\n"
     ]
    }
   ],
   "source": [
    "a = report.split('\\n')\n",
    "for b in a:\n",
    "    c = b.split()\n",
    "print(a)\n",
    "print(a[0])"
   ]
  },
  {
   "cell_type": "code",
   "execution_count": 32,
   "metadata": {},
   "outputs": [
    {
     "name": "stdout",
     "output_type": "stream",
     "text": [
      "7\n"
     ]
    }
   ],
   "source": [
    "print(len(a))"
   ]
  },
  {
   "cell_type": "code",
   "execution_count": 35,
   "metadata": {},
   "outputs": [
    {
     "name": "stdout",
     "output_type": "stream",
     "text": [
      "[]\n"
     ]
    }
   ],
   "source": [
    "print(c)"
   ]
  },
  {
   "cell_type": "code",
   "execution_count": 36,
   "metadata": {
    "collapsed": true
   },
   "outputs": [],
   "source": [
    "a = report.split()"
   ]
  },
  {
   "cell_type": "code",
   "execution_count": 37,
   "metadata": {},
   "outputs": [
    {
     "name": "stdout",
     "output_type": "stream",
     "text": [
      "[u'precision', u'recall', u'f1-score', u'support', u'0', u'0.76', u'0.86', u'0.81', u'41181', u'1', u'0.79', u'0.65', u'0.71', u'32250', u'avg', u'/', u'total', u'0.77', u'0.77', u'0.77', u'73431']\n"
     ]
    }
   ],
   "source": [
    "print(a)"
   ]
  },
  {
   "cell_type": "code",
   "execution_count": 40,
   "metadata": {},
   "outputs": [
    {
     "name": "stdout",
     "output_type": "stream",
     "text": [
      "[u'0.77', u'0.77', u'0.77']\n"
     ]
    }
   ],
   "source": [
    "print(a[-4:-1])"
   ]
  },
  {
   "cell_type": "code",
   "execution_count": 45,
   "metadata": {},
   "outputs": [
    {
     "name": "stdout",
     "output_type": "stream",
     "text": [
      "0.7698655881031172\n",
      "0.7698655881031172\n",
      "0.7698655881031172\n",
      "0.7698655881031172\n"
     ]
    }
   ],
   "source": [
    "from sklearn.metrics import f1_score\n",
    "from sklearn.metrics import precision_score\n",
    "from sklearn.metrics import recall_score\n",
    "from sklearn.metrics import accuracy_score\n",
    "\n",
    "print(f1_score(y_test, predictions, average='micro'))\n",
    "print(precision_score(y_test, predictions, average='micro'))\n",
    "print(recall_score(y_test, predictions, average='micro'))\n",
    "print(accuracy_score(y_test, predictions))"
   ]
  },
  {
   "cell_type": "code",
   "execution_count": 50,
   "metadata": {},
   "outputs": [
    {
     "name": "stdout",
     "output_type": "stream",
     "text": [
      "[1 0 1 ... 1 0 1]\n",
      "[0 0 1 ... 1 0 0]\n",
      "73431\n"
     ]
    }
   ],
   "source": [
    "print(y_test)\n",
    "print(predictions)\n",
    "print(len(y_test))"
   ]
  },
  {
   "cell_type": "code",
   "execution_count": 61,
   "metadata": {},
   "outputs": [
    {
     "name": "stdout",
     "output_type": "stream",
     "text": [
      "56532\n",
      "73431\n",
      "0.769865588103\n"
     ]
    }
   ],
   "source": [
    "ac = 0\n",
    "for i in range(len(y_test)):\n",
    "    #print(y_test[i], predictions[i])\n",
    "    \n",
    "    if y_test[i] == predictions[i]:\n",
    "        #print('ac')\n",
    "        ac += 1\n",
    "        \n",
    "    \n",
    "        \n",
    "print(ac)\n",
    "print(len(y_test))\n",
    "print(float(ac) / float(len(y_test)))"
   ]
  },
  {
   "cell_type": "code",
   "execution_count": 70,
   "metadata": {},
   "outputs": [],
   "source": [
    "TP = np.count_nonzero(y_test * predictions)\n",
    "TN = np.count_nonzero((y_test - 1)*(predictions - 1))\n",
    "FP = np.count_nonzero((y_test - 1)*predictions)\n",
    "FN = np.count_nonzero(y_test*(predictions - 1))"
   ]
  },
  {
   "cell_type": "code",
   "execution_count": 71,
   "metadata": {},
   "outputs": [
    {
     "name": "stdout",
     "output_type": "stream",
     "text": [
      "20964\n",
      "35568\n",
      "5613\n",
      "11286\n"
     ]
    }
   ],
   "source": [
    "print(TP)\n",
    "print(TN)\n",
    "print(FP)\n",
    "print(FN)"
   ]
  },
  {
   "cell_type": "code",
   "execution_count": 75,
   "metadata": {},
   "outputs": [
    {
     "name": "stdout",
     "output_type": "stream",
     "text": [
      "0.788802347895\n",
      "0.650046511628\n",
      "0.712733948697\n"
     ]
    }
   ],
   "source": [
    "precision_ = float(TP) / float(TP + FP)\n",
    "recall_ = float(TP) / float(TP + FN)\n",
    "f1_ = (2 * precision_ * recall_) / (precision_ + recall_)\n",
    "print(precision_)\n",
    "print(recall_)\n",
    "print(f1_)"
   ]
  },
  {
   "cell_type": "code",
   "execution_count": null,
   "metadata": {
    "collapsed": true
   },
   "outputs": [],
   "source": []
  }
 ],
 "metadata": {
  "kernelspec": {
   "display_name": "AIMD_jhko01",
   "language": "python",
   "name": "aimd_jhko01"
  },
  "language_info": {
   "codemirror_mode": {
    "name": "ipython",
    "version": 2
   },
   "file_extension": ".py",
   "mimetype": "text/x-python",
   "name": "python",
   "nbconvert_exporter": "python",
   "pygments_lexer": "ipython2",
   "version": "2.7.5"
  }
 },
 "nbformat": 4,
 "nbformat_minor": 2
}
