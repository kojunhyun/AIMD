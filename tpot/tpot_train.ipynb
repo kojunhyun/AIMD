{
 "cells": [
  {
   "cell_type": "code",
   "execution_count": 9,
   "metadata": {
    "collapsed": true
   },
   "outputs": [],
   "source": [
    "import numpy as np\n",
    "import pandas as pd\n",
    "from sklearn.ensemble import GradientBoostingClassifier\n",
    "from sklearn.model_selection import train_test_split\n",
    "from sklearn.naive_bayes import BernoulliNB\n",
    "from sklearn.pipeline import make_pipeline, make_union\n",
    "from tpot.builtins import StackingEstimator\n",
    "import pickle\n",
    "from sklearn.metrics import classification_report\n",
    "from sklearn.metrics import f1_score"
   ]
  },
  {
   "cell_type": "code",
   "execution_count": 2,
   "metadata": {},
   "outputs": [],
   "source": [
    "x_data = pd.read_csv('x_data.csv')\n",
    "y_data = pd.read_csv('y_data.csv')\n",
    "\n",
    "del x_data['date']\n",
    "del x_data['product_no']\n",
    "\n",
    "tmp_y_data = np.array(y_data)\n",
    "x_data = np.array(x_data)\n",
    "y_data = tmp_y_data.flatten()"
   ]
  },
  {
   "cell_type": "code",
   "execution_count": 3,
   "metadata": {
    "collapsed": true
   },
   "outputs": [],
   "source": [
    "X_train, X_test, y_train, y_test = train_test_split(x_data, y_data, train_size=0.75, test_size=0.25, random_state=42)"
   ]
  },
  {
   "cell_type": "code",
   "execution_count": 4,
   "metadata": {},
   "outputs": [],
   "source": [
    "# Score on the training set was:0.780732928269\n",
    "# iteration : 30\n",
    "exported_pipeline = make_pipeline(\n",
    "    StackingEstimator(estimator=BernoulliNB(alpha=1.0, fit_prior=True)),\n",
    "    GradientBoostingClassifier(learning_rate=0.1, max_depth=5, max_features=0.95, min_samples_leaf=19, min_samples_split=20, n_estimators=100, subsample=0.75)\n",
    ")\n",
    "\n",
    "exported_pipeline.fit(X_train, y_train)\n",
    "\n",
    "with open('model/cafe24_train_model.txt', 'w') as f:\n",
    "    pickle.dump(exported_pipeline, f)\n"
   ]
  },
  {
   "cell_type": "code",
   "execution_count": 6,
   "metadata": {},
   "outputs": [
    {
     "name": "stdout",
     "output_type": "stream",
     "text": [
      "[0 1 1 ... 0 1 1]\n",
      "73431\n"
     ]
    }
   ],
   "source": [
    "results = exported_pipeline.predict(X_test)\n",
    "\n",
    "print(results)\n",
    "print(len(results))"
   ]
  },
  {
   "cell_type": "code",
   "execution_count": 13,
   "metadata": {},
   "outputs": [
    {
     "name": "stdout",
     "output_type": "stream",
     "text": [
      "             precision    recall  f1-score   support\n",
      "\n",
      "    class 0       0.77      0.86      0.81     41159\n",
      "    class 1       0.79      0.68      0.73     32272\n",
      "\n",
      "avg / total       0.78      0.78      0.78     73431\n",
      "\n",
      "0.7302482316829041\n",
      "0.7797932753196879\n"
     ]
    }
   ],
   "source": [
    "target_names = ['class 0', 'class 1']\n",
    "print(classification_report(y_test, results, target_names=target_names))\n",
    "print(f1_score(y_test, results, average='binary'))\n",
    "print(f1_score(y_test, results, average='micro'))"
   ]
  },
  {
   "cell_type": "code",
   "execution_count": null,
   "metadata": {
    "collapsed": true
   },
   "outputs": [],
   "source": []
  }
 ],
 "metadata": {
  "kernelspec": {
   "display_name": "AIMD_jhko01",
   "language": "python",
   "name": "aimd_jhko01"
  },
  "language_info": {
   "codemirror_mode": {
    "name": "ipython",
    "version": 2
   },
   "file_extension": ".py",
   "mimetype": "text/x-python",
   "name": "python",
   "nbconvert_exporter": "python",
   "pygments_lexer": "ipython2",
   "version": "2.7.5"
  }
 },
 "nbformat": 4,
 "nbformat_minor": 2
}
