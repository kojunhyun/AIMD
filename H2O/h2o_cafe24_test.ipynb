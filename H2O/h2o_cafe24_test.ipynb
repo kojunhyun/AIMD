{
 "cells": [
  {
   "cell_type": "code",
   "execution_count": 1,
   "metadata": {
    "collapsed": true
   },
   "outputs": [],
   "source": [
    "import h2o\n",
    "import pandas as pd"
   ]
  },
  {
   "cell_type": "code",
   "execution_count": 2,
   "metadata": {},
   "outputs": [
    {
     "name": "stdout",
     "output_type": "stream",
     "text": [
      "Checking whether there is an H2O instance running at http://localhost:54321. connected.\n"
     ]
    },
    {
     "data": {
      "text/html": [
       "<div style=\"overflow:auto\"><table style=\"width:50%\"><tr><td>H2O cluster uptime:</td>\n",
       "<td>20 hours 54 mins</td></tr>\n",
       "<tr><td>H2O cluster timezone:</td>\n",
       "<td>Asia/Seoul</td></tr>\n",
       "<tr><td>H2O data parsing timezone:</td>\n",
       "<td>UTC</td></tr>\n",
       "<tr><td>H2O cluster version:</td>\n",
       "<td>3.20.0.5</td></tr>\n",
       "<tr><td>H2O cluster version age:</td>\n",
       "<td>13 days </td></tr>\n",
       "<tr><td>H2O cluster name:</td>\n",
       "<td>H2O_from_python_root_rp8ljb</td></tr>\n",
       "<tr><td>H2O cluster total nodes:</td>\n",
       "<td>1</td></tr>\n",
       "<tr><td>H2O cluster free memory:</td>\n",
       "<td>13.15 Gb</td></tr>\n",
       "<tr><td>H2O cluster total cores:</td>\n",
       "<td>12</td></tr>\n",
       "<tr><td>H2O cluster allowed cores:</td>\n",
       "<td>12</td></tr>\n",
       "<tr><td>H2O cluster status:</td>\n",
       "<td>locked, healthy</td></tr>\n",
       "<tr><td>H2O connection url:</td>\n",
       "<td>http://localhost:54321</td></tr>\n",
       "<tr><td>H2O connection proxy:</td>\n",
       "<td>None</td></tr>\n",
       "<tr><td>H2O internal security:</td>\n",
       "<td>False</td></tr>\n",
       "<tr><td>H2O API Extensions:</td>\n",
       "<td>Algos, AutoML, Core V3, Core V4</td></tr>\n",
       "<tr><td>Python version:</td>\n",
       "<td>2.7.5 final</td></tr></table></div>"
      ],
      "text/plain": [
       "--------------------------  -------------------------------\n",
       "H2O cluster uptime:         20 hours 54 mins\n",
       "H2O cluster timezone:       Asia/Seoul\n",
       "H2O data parsing timezone:  UTC\n",
       "H2O cluster version:        3.20.0.5\n",
       "H2O cluster version age:    13 days\n",
       "H2O cluster name:           H2O_from_python_root_rp8ljb\n",
       "H2O cluster total nodes:    1\n",
       "H2O cluster free memory:    13.15 Gb\n",
       "H2O cluster total cores:    12\n",
       "H2O cluster allowed cores:  12\n",
       "H2O cluster status:         locked, healthy\n",
       "H2O connection url:         http://localhost:54321\n",
       "H2O connection proxy:\n",
       "H2O internal security:      False\n",
       "H2O API Extensions:         Algos, AutoML, Core V3, Core V4\n",
       "Python version:             2.7.5 final\n",
       "--------------------------  -------------------------------"
      ]
     },
     "metadata": {},
     "output_type": "display_data"
    }
   ],
   "source": [
    "h2o.init()"
   ]
  },
  {
   "cell_type": "code",
   "execution_count": 3,
   "metadata": {},
   "outputs": [
    {
     "data": {
      "text/html": [
       "<div>\n",
       "<style scoped>\n",
       "    .dataframe tbody tr th:only-of-type {\n",
       "        vertical-align: middle;\n",
       "    }\n",
       "\n",
       "    .dataframe tbody tr th {\n",
       "        vertical-align: top;\n",
       "    }\n",
       "\n",
       "    .dataframe thead th {\n",
       "        text-align: right;\n",
       "    }\n",
       "</style>\n",
       "<table border=\"1\" class=\"dataframe\">\n",
       "  <thead>\n",
       "    <tr style=\"text-align: right;\">\n",
       "      <th></th>\n",
       "      <th>date</th>\n",
       "      <th>product_no</th>\n",
       "      <th>month</th>\n",
       "      <th>day</th>\n",
       "      <th>w_day</th>\n",
       "      <th>season</th>\n",
       "      <th>price</th>\n",
       "      <th>quantity_0</th>\n",
       "      <th>clicks_0</th>\n",
       "      <th>quantity_5</th>\n",
       "      <th>quantity_4</th>\n",
       "      <th>quantity_3</th>\n",
       "      <th>quantity_2</th>\n",
       "      <th>quantity_1</th>\n",
       "      <th>clicks_5</th>\n",
       "      <th>clicks_4</th>\n",
       "      <th>clicks_3</th>\n",
       "      <th>clicks_2</th>\n",
       "      <th>clicks_1</th>\n",
       "      <th>output</th>\n",
       "    </tr>\n",
       "  </thead>\n",
       "  <tbody>\n",
       "    <tr>\n",
       "      <th>0</th>\n",
       "      <td>2017-01-06 00:00:00</td>\n",
       "      <td>97616</td>\n",
       "      <td>1</td>\n",
       "      <td>6</td>\n",
       "      <td>4</td>\n",
       "      <td>1</td>\n",
       "      <td>13800</td>\n",
       "      <td>0</td>\n",
       "      <td>3</td>\n",
       "      <td>0</td>\n",
       "      <td>2</td>\n",
       "      <td>0</td>\n",
       "      <td>0</td>\n",
       "      <td>0</td>\n",
       "      <td>0</td>\n",
       "      <td>3</td>\n",
       "      <td>3</td>\n",
       "      <td>3</td>\n",
       "      <td>5</td>\n",
       "      <td>0</td>\n",
       "    </tr>\n",
       "    <tr>\n",
       "      <th>1</th>\n",
       "      <td>2017-01-07 00:00:00</td>\n",
       "      <td>97616</td>\n",
       "      <td>1</td>\n",
       "      <td>7</td>\n",
       "      <td>5</td>\n",
       "      <td>1</td>\n",
       "      <td>13800</td>\n",
       "      <td>0</td>\n",
       "      <td>1</td>\n",
       "      <td>2</td>\n",
       "      <td>0</td>\n",
       "      <td>0</td>\n",
       "      <td>0</td>\n",
       "      <td>0</td>\n",
       "      <td>3</td>\n",
       "      <td>3</td>\n",
       "      <td>3</td>\n",
       "      <td>5</td>\n",
       "      <td>3</td>\n",
       "      <td>0</td>\n",
       "    </tr>\n",
       "    <tr>\n",
       "      <th>2</th>\n",
       "      <td>2017-03-03 00:00:00</td>\n",
       "      <td>97616</td>\n",
       "      <td>3</td>\n",
       "      <td>3</td>\n",
       "      <td>4</td>\n",
       "      <td>2</td>\n",
       "      <td>13800</td>\n",
       "      <td>1</td>\n",
       "      <td>14</td>\n",
       "      <td>0</td>\n",
       "      <td>0</td>\n",
       "      <td>0</td>\n",
       "      <td>0</td>\n",
       "      <td>0</td>\n",
       "      <td>14</td>\n",
       "      <td>25</td>\n",
       "      <td>12</td>\n",
       "      <td>11</td>\n",
       "      <td>11</td>\n",
       "      <td>0</td>\n",
       "    </tr>\n",
       "    <tr>\n",
       "      <th>3</th>\n",
       "      <td>2017-03-04 00:00:00</td>\n",
       "      <td>97616</td>\n",
       "      <td>3</td>\n",
       "      <td>4</td>\n",
       "      <td>5</td>\n",
       "      <td>2</td>\n",
       "      <td>13800</td>\n",
       "      <td>0</td>\n",
       "      <td>13</td>\n",
       "      <td>0</td>\n",
       "      <td>0</td>\n",
       "      <td>0</td>\n",
       "      <td>0</td>\n",
       "      <td>1</td>\n",
       "      <td>25</td>\n",
       "      <td>12</td>\n",
       "      <td>11</td>\n",
       "      <td>11</td>\n",
       "      <td>14</td>\n",
       "      <td>0</td>\n",
       "    </tr>\n",
       "    <tr>\n",
       "      <th>4</th>\n",
       "      <td>2017-03-05 00:00:00</td>\n",
       "      <td>97616</td>\n",
       "      <td>3</td>\n",
       "      <td>5</td>\n",
       "      <td>6</td>\n",
       "      <td>2</td>\n",
       "      <td>13800</td>\n",
       "      <td>0</td>\n",
       "      <td>9</td>\n",
       "      <td>0</td>\n",
       "      <td>0</td>\n",
       "      <td>0</td>\n",
       "      <td>1</td>\n",
       "      <td>0</td>\n",
       "      <td>12</td>\n",
       "      <td>11</td>\n",
       "      <td>11</td>\n",
       "      <td>14</td>\n",
       "      <td>13</td>\n",
       "      <td>0</td>\n",
       "    </tr>\n",
       "  </tbody>\n",
       "</table>\n",
       "</div>"
      ],
      "text/plain": [
       "                  date  product_no  month  day  w_day  season  price  \\\n",
       "0  2017-01-06 00:00:00       97616      1    6      4       1  13800   \n",
       "1  2017-01-07 00:00:00       97616      1    7      5       1  13800   \n",
       "2  2017-03-03 00:00:00       97616      3    3      4       2  13800   \n",
       "3  2017-03-04 00:00:00       97616      3    4      5       2  13800   \n",
       "4  2017-03-05 00:00:00       97616      3    5      6       2  13800   \n",
       "\n",
       "   quantity_0  clicks_0  quantity_5  quantity_4  quantity_3  quantity_2  \\\n",
       "0           0         3           0           2           0           0   \n",
       "1           0         1           2           0           0           0   \n",
       "2           1        14           0           0           0           0   \n",
       "3           0        13           0           0           0           0   \n",
       "4           0         9           0           0           0           1   \n",
       "\n",
       "   quantity_1  clicks_5  clicks_4  clicks_3  clicks_2  clicks_1  output  \n",
       "0           0         0         3         3         3         5       0  \n",
       "1           0         3         3         3         5         3       0  \n",
       "2           0        14        25        12        11        11       0  \n",
       "3           1        25        12        11        11        14       0  \n",
       "4           0        12        11        11        14        13       0  "
      ]
     },
     "execution_count": 3,
     "metadata": {},
     "output_type": "execute_result"
    }
   ],
   "source": [
    "data_set = pd.read_csv('rawToRemake_seq_1days_2up_5step_output.csv')\n",
    "data_set.head(5)"
   ]
  },
  {
   "cell_type": "code",
   "execution_count": 4,
   "metadata": {},
   "outputs": [
    {
     "data": {
      "text/html": [
       "<div>\n",
       "<style scoped>\n",
       "    .dataframe tbody tr th:only-of-type {\n",
       "        vertical-align: middle;\n",
       "    }\n",
       "\n",
       "    .dataframe tbody tr th {\n",
       "        vertical-align: top;\n",
       "    }\n",
       "\n",
       "    .dataframe thead th {\n",
       "        text-align: right;\n",
       "    }\n",
       "</style>\n",
       "<table border=\"1\" class=\"dataframe\">\n",
       "  <thead>\n",
       "    <tr style=\"text-align: right;\">\n",
       "      <th></th>\n",
       "      <th>month</th>\n",
       "      <th>day</th>\n",
       "      <th>w_day</th>\n",
       "      <th>season</th>\n",
       "      <th>price</th>\n",
       "      <th>quantity_0</th>\n",
       "      <th>clicks_0</th>\n",
       "      <th>quantity_5</th>\n",
       "      <th>quantity_4</th>\n",
       "      <th>quantity_3</th>\n",
       "      <th>quantity_2</th>\n",
       "      <th>quantity_1</th>\n",
       "      <th>clicks_5</th>\n",
       "      <th>clicks_4</th>\n",
       "      <th>clicks_3</th>\n",
       "      <th>clicks_2</th>\n",
       "      <th>clicks_1</th>\n",
       "      <th>output</th>\n",
       "    </tr>\n",
       "  </thead>\n",
       "  <tbody>\n",
       "    <tr>\n",
       "      <th>0</th>\n",
       "      <td>1</td>\n",
       "      <td>6</td>\n",
       "      <td>4</td>\n",
       "      <td>1</td>\n",
       "      <td>13800</td>\n",
       "      <td>0</td>\n",
       "      <td>3</td>\n",
       "      <td>0</td>\n",
       "      <td>2</td>\n",
       "      <td>0</td>\n",
       "      <td>0</td>\n",
       "      <td>0</td>\n",
       "      <td>0</td>\n",
       "      <td>3</td>\n",
       "      <td>3</td>\n",
       "      <td>3</td>\n",
       "      <td>5</td>\n",
       "      <td>0</td>\n",
       "    </tr>\n",
       "    <tr>\n",
       "      <th>1</th>\n",
       "      <td>1</td>\n",
       "      <td>7</td>\n",
       "      <td>5</td>\n",
       "      <td>1</td>\n",
       "      <td>13800</td>\n",
       "      <td>0</td>\n",
       "      <td>1</td>\n",
       "      <td>2</td>\n",
       "      <td>0</td>\n",
       "      <td>0</td>\n",
       "      <td>0</td>\n",
       "      <td>0</td>\n",
       "      <td>3</td>\n",
       "      <td>3</td>\n",
       "      <td>3</td>\n",
       "      <td>5</td>\n",
       "      <td>3</td>\n",
       "      <td>0</td>\n",
       "    </tr>\n",
       "    <tr>\n",
       "      <th>2</th>\n",
       "      <td>3</td>\n",
       "      <td>3</td>\n",
       "      <td>4</td>\n",
       "      <td>2</td>\n",
       "      <td>13800</td>\n",
       "      <td>1</td>\n",
       "      <td>14</td>\n",
       "      <td>0</td>\n",
       "      <td>0</td>\n",
       "      <td>0</td>\n",
       "      <td>0</td>\n",
       "      <td>0</td>\n",
       "      <td>14</td>\n",
       "      <td>25</td>\n",
       "      <td>12</td>\n",
       "      <td>11</td>\n",
       "      <td>11</td>\n",
       "      <td>0</td>\n",
       "    </tr>\n",
       "    <tr>\n",
       "      <th>3</th>\n",
       "      <td>3</td>\n",
       "      <td>4</td>\n",
       "      <td>5</td>\n",
       "      <td>2</td>\n",
       "      <td>13800</td>\n",
       "      <td>0</td>\n",
       "      <td>13</td>\n",
       "      <td>0</td>\n",
       "      <td>0</td>\n",
       "      <td>0</td>\n",
       "      <td>0</td>\n",
       "      <td>1</td>\n",
       "      <td>25</td>\n",
       "      <td>12</td>\n",
       "      <td>11</td>\n",
       "      <td>11</td>\n",
       "      <td>14</td>\n",
       "      <td>0</td>\n",
       "    </tr>\n",
       "    <tr>\n",
       "      <th>4</th>\n",
       "      <td>3</td>\n",
       "      <td>5</td>\n",
       "      <td>6</td>\n",
       "      <td>2</td>\n",
       "      <td>13800</td>\n",
       "      <td>0</td>\n",
       "      <td>9</td>\n",
       "      <td>0</td>\n",
       "      <td>0</td>\n",
       "      <td>0</td>\n",
       "      <td>1</td>\n",
       "      <td>0</td>\n",
       "      <td>12</td>\n",
       "      <td>11</td>\n",
       "      <td>11</td>\n",
       "      <td>14</td>\n",
       "      <td>13</td>\n",
       "      <td>0</td>\n",
       "    </tr>\n",
       "  </tbody>\n",
       "</table>\n",
       "</div>"
      ],
      "text/plain": [
       "   month  day  w_day  season  price  quantity_0  clicks_0  quantity_5  \\\n",
       "0      1    6      4       1  13800           0         3           0   \n",
       "1      1    7      5       1  13800           0         1           2   \n",
       "2      3    3      4       2  13800           1        14           0   \n",
       "3      3    4      5       2  13800           0        13           0   \n",
       "4      3    5      6       2  13800           0         9           0   \n",
       "\n",
       "   quantity_4  quantity_3  quantity_2  quantity_1  clicks_5  clicks_4  \\\n",
       "0           2           0           0           0         0         3   \n",
       "1           0           0           0           0         3         3   \n",
       "2           0           0           0           0        14        25   \n",
       "3           0           0           0           1        25        12   \n",
       "4           0           0           1           0        12        11   \n",
       "\n",
       "   clicks_3  clicks_2  clicks_1  output  \n",
       "0         3         3         5       0  \n",
       "1         3         5         3       0  \n",
       "2        12        11        11       0  \n",
       "3        11        11        14       0  \n",
       "4        11        14        13       0  "
      ]
     },
     "execution_count": 4,
     "metadata": {},
     "output_type": "execute_result"
    }
   ],
   "source": [
    "del data_set['date']\n",
    "del data_set['product_no']\n",
    "data_set.head(5)"
   ]
  },
  {
   "cell_type": "code",
   "execution_count": 5,
   "metadata": {},
   "outputs": [
    {
     "name": "stderr",
     "output_type": "stream",
     "text": [
      "/home/notebook/jhko01/AIMD_PLATFORM/lib/python2.7/site-packages/h2o/utils/shared_utils.py:177: FutureWarning: Method .as_matrix will be removed in a future version. Use .values instead.\n",
      "  data = _handle_python_lists(python_obj.as_matrix().tolist(), -1)[1]\n"
     ]
    },
    {
     "name": "stdout",
     "output_type": "stream",
     "text": [
      "Parse progress: |█████████████████████████████████████████████████████████| 100%\n"
     ]
    },
    {
     "data": {
      "text/html": [
       "<table>\n",
       "<thead>\n",
       "<tr><th style=\"text-align: right;\">  month</th><th style=\"text-align: right;\">  day</th><th style=\"text-align: right;\">  w_day</th><th style=\"text-align: right;\">  season</th><th style=\"text-align: right;\">  price</th><th style=\"text-align: right;\">  quantity_0</th><th style=\"text-align: right;\">  clicks_0</th><th style=\"text-align: right;\">  quantity_5</th><th style=\"text-align: right;\">  quantity_4</th><th style=\"text-align: right;\">  quantity_3</th><th style=\"text-align: right;\">  quantity_2</th><th style=\"text-align: right;\">  quantity_1</th><th style=\"text-align: right;\">  clicks_5</th><th style=\"text-align: right;\">  clicks_4</th><th style=\"text-align: right;\">  clicks_3</th><th style=\"text-align: right;\">  clicks_2</th><th style=\"text-align: right;\">  clicks_1</th><th style=\"text-align: right;\">  output</th></tr>\n",
       "</thead>\n",
       "<tbody>\n",
       "<tr><td style=\"text-align: right;\">      1</td><td style=\"text-align: right;\">    6</td><td style=\"text-align: right;\">      4</td><td style=\"text-align: right;\">       1</td><td style=\"text-align: right;\">  13800</td><td style=\"text-align: right;\">           0</td><td style=\"text-align: right;\">         3</td><td style=\"text-align: right;\">           0</td><td style=\"text-align: right;\">           2</td><td style=\"text-align: right;\">           0</td><td style=\"text-align: right;\">           0</td><td style=\"text-align: right;\">           0</td><td style=\"text-align: right;\">         0</td><td style=\"text-align: right;\">         3</td><td style=\"text-align: right;\">         3</td><td style=\"text-align: right;\">         3</td><td style=\"text-align: right;\">         5</td><td style=\"text-align: right;\">       0</td></tr>\n",
       "<tr><td style=\"text-align: right;\">      1</td><td style=\"text-align: right;\">    7</td><td style=\"text-align: right;\">      5</td><td style=\"text-align: right;\">       1</td><td style=\"text-align: right;\">  13800</td><td style=\"text-align: right;\">           0</td><td style=\"text-align: right;\">         1</td><td style=\"text-align: right;\">           2</td><td style=\"text-align: right;\">           0</td><td style=\"text-align: right;\">           0</td><td style=\"text-align: right;\">           0</td><td style=\"text-align: right;\">           0</td><td style=\"text-align: right;\">         3</td><td style=\"text-align: right;\">         3</td><td style=\"text-align: right;\">         3</td><td style=\"text-align: right;\">         5</td><td style=\"text-align: right;\">         3</td><td style=\"text-align: right;\">       0</td></tr>\n",
       "<tr><td style=\"text-align: right;\">      3</td><td style=\"text-align: right;\">    3</td><td style=\"text-align: right;\">      4</td><td style=\"text-align: right;\">       2</td><td style=\"text-align: right;\">  13800</td><td style=\"text-align: right;\">           1</td><td style=\"text-align: right;\">        14</td><td style=\"text-align: right;\">           0</td><td style=\"text-align: right;\">           0</td><td style=\"text-align: right;\">           0</td><td style=\"text-align: right;\">           0</td><td style=\"text-align: right;\">           0</td><td style=\"text-align: right;\">        14</td><td style=\"text-align: right;\">        25</td><td style=\"text-align: right;\">        12</td><td style=\"text-align: right;\">        11</td><td style=\"text-align: right;\">        11</td><td style=\"text-align: right;\">       0</td></tr>\n",
       "<tr><td style=\"text-align: right;\">      3</td><td style=\"text-align: right;\">    4</td><td style=\"text-align: right;\">      5</td><td style=\"text-align: right;\">       2</td><td style=\"text-align: right;\">  13800</td><td style=\"text-align: right;\">           0</td><td style=\"text-align: right;\">        13</td><td style=\"text-align: right;\">           0</td><td style=\"text-align: right;\">           0</td><td style=\"text-align: right;\">           0</td><td style=\"text-align: right;\">           0</td><td style=\"text-align: right;\">           1</td><td style=\"text-align: right;\">        25</td><td style=\"text-align: right;\">        12</td><td style=\"text-align: right;\">        11</td><td style=\"text-align: right;\">        11</td><td style=\"text-align: right;\">        14</td><td style=\"text-align: right;\">       0</td></tr>\n",
       "<tr><td style=\"text-align: right;\">      3</td><td style=\"text-align: right;\">    5</td><td style=\"text-align: right;\">      6</td><td style=\"text-align: right;\">       2</td><td style=\"text-align: right;\">  13800</td><td style=\"text-align: right;\">           0</td><td style=\"text-align: right;\">         9</td><td style=\"text-align: right;\">           0</td><td style=\"text-align: right;\">           0</td><td style=\"text-align: right;\">           0</td><td style=\"text-align: right;\">           1</td><td style=\"text-align: right;\">           0</td><td style=\"text-align: right;\">        12</td><td style=\"text-align: right;\">        11</td><td style=\"text-align: right;\">        11</td><td style=\"text-align: right;\">        14</td><td style=\"text-align: right;\">        13</td><td style=\"text-align: right;\">       0</td></tr>\n",
       "</tbody>\n",
       "</table>"
      ]
     },
     "metadata": {},
     "output_type": "display_data"
    },
    {
     "data": {
      "text/plain": []
     },
     "execution_count": 5,
     "metadata": {},
     "output_type": "execute_result"
    }
   ],
   "source": [
    "data_from_df = h2o.H2OFrame(data_set)\n",
    "data_from_df.head(5)"
   ]
  },
  {
   "cell_type": "code",
   "execution_count": 6,
   "metadata": {
    "collapsed": true
   },
   "outputs": [],
   "source": [
    "data_split = data_from_df.split_frame(ratios = [0.8], seed = 1234)\n",
    "\n",
    "data_train = data_split[0]\n",
    "data_test = data_split[1]"
   ]
  },
  {
   "cell_type": "code",
   "execution_count": 7,
   "metadata": {
    "collapsed": true
   },
   "outputs": [],
   "source": [
    "x = data_train.columns\n",
    "y = 'output'\n",
    "x.remove(y)"
   ]
  },
  {
   "cell_type": "code",
   "execution_count": 8,
   "metadata": {
    "collapsed": true
   },
   "outputs": [],
   "source": [
    "data_train[y] = data_train[y].asfactor()\n",
    "data_test[y] = data_test[y].asfactor()"
   ]
  },
  {
   "cell_type": "code",
   "execution_count": 11,
   "metadata": {
    "collapsed": true
   },
   "outputs": [],
   "source": [
    "saved_model = h2o.load_model('/home/notebook/jhko01/h2o_ex/cafe24_h2o_model/DRF_0_AutoML_20180822_151404')"
   ]
  },
  {
   "cell_type": "code",
   "execution_count": 34,
   "metadata": {},
   "outputs": [
    {
     "name": "stdout",
     "output_type": "stream",
     "text": [
      "drf prediction progress: |████████████████████████████████████████████████| 100%\n"
     ]
    }
   ],
   "source": [
    "pred = saved_model.predict(data_test)"
   ]
  },
  {
   "cell_type": "code",
   "execution_count": 57,
   "metadata": {},
   "outputs": [],
   "source": [
    "pred.shape\n",
    "from pandas import DataFrame"
   ]
  },
  {
   "cell_type": "code",
   "execution_count": 73,
   "metadata": {},
   "outputs": [
    {
     "data": {
      "text/html": [
       "<table>\n",
       "<thead>\n",
       "<tr><th style=\"text-align: right;\">       p1</th></tr>\n",
       "</thead>\n",
       "<tbody>\n",
       "<tr><td style=\"text-align: right;\">0.0961896</td></tr>\n",
       "</tbody>\n",
       "</table>"
      ]
     },
     "metadata": {},
     "output_type": "display_data"
    },
    {
     "data": {
      "text/plain": []
     },
     "execution_count": 73,
     "metadata": {},
     "output_type": "execute_result"
    }
   ],
   "source": [
    "\n",
    "pred[:1,2:3]\n"
   ]
  },
  {
   "cell_type": "code",
   "execution_count": 75,
   "metadata": {},
   "outputs": [],
   "source": [
    "aa = pred.get_frame_data"
   ]
  },
  {
   "cell_type": "code",
   "execution_count": 79,
   "metadata": {},
   "outputs": [],
   "source": [
    "aaa = h2o.as_list(pred, use_pandas=False)"
   ]
  },
  {
   "cell_type": "code",
   "execution_count": 81,
   "metadata": {},
   "outputs": [
    {
     "name": "stdout",
     "output_type": "stream",
     "text": [
      "['0', '0.903810420036316', '0.09618957996368405']\n"
     ]
    }
   ],
   "source": [
    "print(aaa[1])"
   ]
  },
  {
   "cell_type": "code",
   "execution_count": 82,
   "metadata": {},
   "outputs": [
    {
     "name": "stdout",
     "output_type": "stream",
     "text": [
      "0.09618957996368405\n"
     ]
    }
   ],
   "source": [
    "print(aaa[1][2])"
   ]
  },
  {
   "cell_type": "code",
   "execution_count": null,
   "metadata": {
    "collapsed": true
   },
   "outputs": [],
   "source": []
  }
 ],
 "metadata": {
  "kernelspec": {
   "display_name": "AIMD_jhko01",
   "language": "python",
   "name": "aimd_jhko01"
  },
  "language_info": {
   "codemirror_mode": {
    "name": "ipython",
    "version": 2
   },
   "file_extension": ".py",
   "mimetype": "text/x-python",
   "name": "python",
   "nbconvert_exporter": "python",
   "pygments_lexer": "ipython2",
   "version": "2.7.5"
  }
 },
 "nbformat": 4,
 "nbformat_minor": 2
}
